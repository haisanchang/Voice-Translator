{
 "cells": [
  {
   "cell_type": "markdown",
   "metadata": {},
   "source": [
    "# Voice Translator\n",
    "    Implement a Voice Translator Using Googletrans Library"
   ]
  },
  {
   "cell_type": "code",
   "execution_count": 1,
   "metadata": {},
   "outputs": [
    {
     "name": "stdout",
     "output_type": "stream",
     "text": [
      "pygame 1.9.4\n",
      "Hello from the pygame community. https://www.pygame.org/contribute.html\n"
     ]
    }
   ],
   "source": [
    "import speech_recognition\n",
    "import tempfile\n",
    "from gtts import gTTS\n",
    "from pygame import mixer\n",
    "from googletrans import Translator"
   ]
  },
  {
   "cell_type": "code",
   "execution_count": 2,
   "metadata": {},
   "outputs": [],
   "source": [
    "# 初始化語音識別器、翻譯器、播放器\n",
    "recognizer = speech_recognition.Recognizer()\n",
    "translator = Translator()\n",
    "mixer.init()\n",
    "\n",
    "\n",
    "def speak_ch_to_en(audio):\n",
    "    # 原始語音轉文字\n",
    "    original_text = recognizer.recognize_google(audio, language='zh-tw')\n",
    "    # 原始文字轉英文\n",
    "    translated_word = translator.translate(original_text, dest = 'en').text\n",
    "    # 產生暫存檔\n",
    "    print('原始語音:', original_text)\n",
    "    with tempfile.NamedTemporaryFile(delete=True) as temp_file:\n",
    "        # 英文文字轉語音\n",
    "        translated_sound = gTTS(text = translated_word, lang= 'en')\n",
    "        # 存成mp3檔\n",
    "        translated_sound.save('{}.mp3'.format(temp_file.name))\n",
    "        # 載入音檔\n",
    "        mixer.music.load('{}.mp3'.format(temp_file.name))\n",
    "        # 播放\n",
    "        mixer.music.play()\n",
    "        \n",
    "        print('After translation:', translated_word)\n",
    "\n",
    "def speak_en_to_ch(audio):\n",
    "    # 原始語音轉文字\n",
    "    original_text = recognizer.recognize_google(audio, language='en-US')\n",
    "    # 原始文字轉英文\n",
    "    translated_word = translator.translate(original_text, dest = 'zh-TW').text\n",
    "    print('原始語音:', original_text)\n",
    "    # 產生暫存檔\n",
    "    with tempfile.NamedTemporaryFile(delete=True) as temp_file:\n",
    "        # 英文文字轉語音\n",
    "        translated_sound = gTTS(text = translated_word, lang= 'zh-tw')\n",
    "        # 存成mp3檔\n",
    "        translated_sound.save('{}.mp3'.format(temp_file.name))\n",
    "        # 載入音檔\n",
    "        mixer.music.load('{}.mp3'.format(temp_file.name))\n",
    "        # 播放\n",
    "        mixer.music.play()\n",
    "        \n",
    "        print('After translation:', translated_word)        \n",
    "        "
   ]
  },
  {
   "cell_type": "code",
   "execution_count": 3,
   "metadata": {},
   "outputs": [
    {
     "name": "stdout",
     "output_type": "stream",
     "text": [
      "原始語音: 氣象報告說明天不會下雨\n",
      "After translation: Weather report shows that it will not rain\n"
     ]
    }
   ],
   "source": [
    "# 開始麥克風收音，讓電腦接收語音\n",
    "# 中轉英\n",
    "with speech_recognition.Microphone() as sound_source:\n",
    "    audio = recognizer.listen(sound_source)\n",
    "    \n",
    "speak_ch_to_en(audio)"
   ]
  },
  {
   "cell_type": "code",
   "execution_count": 5,
   "metadata": {},
   "outputs": [
    {
     "name": "stdout",
     "output_type": "stream",
     "text": [
      "原始語音: can you give me the invoice\n",
      "After translation: 你能給我發票嗎？\n"
     ]
    }
   ],
   "source": [
    "# 開始麥克風收音，讓電腦接收語音\n",
    "# 英轉中\n",
    "with speech_recognition.Microphone() as sound_source:\n",
    "    audio = recognizer.listen(sound_source)\n",
    "\n",
    "speak_en_to_ch(audio)"
   ]
  }
 ],
 "metadata": {
  "kernelspec": {
   "display_name": "Python 3",
   "language": "python",
   "name": "python3"
  },
  "language_info": {
   "codemirror_mode": {
    "name": "ipython",
    "version": 3
   },
   "file_extension": ".py",
   "mimetype": "text/x-python",
   "name": "python",
   "nbconvert_exporter": "python",
   "pygments_lexer": "ipython3",
   "version": "3.6.4"
  }
 },
 "nbformat": 4,
 "nbformat_minor": 2
}
